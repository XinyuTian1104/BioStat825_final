{
 "cells": [
  {
   "cell_type": "code",
   "execution_count": 1,
   "metadata": {},
   "outputs": [
    {
     "name": "stderr",
     "output_type": "stream",
     "text": [
      "Downloading builder script: 100%|██████████| 18.3k/18.3k [00:00<00:00, 6.94MB/s]\n",
      "Downloading readme: 100%|██████████| 6.63k/6.63k [00:00<00:00, 1.89MB/s]\n"
     ]
    }
   ],
   "source": [
    "from datasets import load_dataset\n",
    "\n",
    "dataset = load_dataset('Salesforce/dialogstudio', 'MULTIWOZ2_2')"
   ]
  },
  {
   "cell_type": "code",
   "execution_count": 2,
   "metadata": {},
   "outputs": [
    {
     "data": {
      "text/plain": [
       "DatasetDict({\n",
       "    train: Dataset({\n",
       "        features: ['original dialog id', 'new dialog id', 'dialog index', 'original dialog info', 'log', 'prompt', 'external knowledge non-flat', 'external knowledge', 'dst knowledge', 'intent knowledge'],\n",
       "        num_rows: 8437\n",
       "    })\n",
       "    validation: Dataset({\n",
       "        features: ['original dialog id', 'new dialog id', 'dialog index', 'original dialog info', 'log', 'prompt', 'external knowledge non-flat', 'external knowledge', 'dst knowledge', 'intent knowledge'],\n",
       "        num_rows: 1000\n",
       "    })\n",
       "    test: Dataset({\n",
       "        features: ['original dialog id', 'new dialog id', 'dialog index', 'original dialog info', 'log', 'prompt', 'external knowledge non-flat', 'external knowledge', 'dst knowledge', 'intent knowledge'],\n",
       "        num_rows: 1000\n",
       "    })\n",
       "})"
      ]
     },
     "execution_count": 2,
     "metadata": {},
     "output_type": "execute_result"
    }
   ],
   "source": [
    "dataset"
   ]
  },
  {
   "cell_type": "code",
   "execution_count": 13,
   "metadata": {},
   "outputs": [
    {
     "data": {
      "text/plain": [
       "[{'turn id': 1,\n",
       "  'user utterance': 'I am looking for a Chinese place in the centre.',\n",
       "  'system response': 'I have 10 restaurants matching your request. Did you have a price range you would like?',\n",
       "  'dialog history': '',\n",
       "  'original user side information': '{\"frames\": [{\"actions\": [], \"service\": \"restaurant\", \"slots\": [{\"exclusive_end\": 26, \"slot\": \"restaurant-food\", \"start\": 19, \"value\": \"Chinese\"}], \"state\": {\"active_intent\": \"find_restaurant\", \"requested_slots\": [], \"slot_values\": {\"restaurant-area\": [\"centre\"], \"restaurant-food\": [\"chinese\"]}}}, {\"actions\": [], \"service\": \"taxi\", \"slots\": [], \"state\": {\"active_intent\": \"NONE\", \"requested_slots\": [], \"slot_values\": {}}}, {\"actions\": [], \"service\": \"train\", \"slots\": [], \"state\": {\"active_intent\": \"NONE\", \"requested_slots\": [], \"slot_values\": {}}}, {\"actions\": [], \"service\": \"bus\", \"slots\": [], \"state\": {\"active_intent\": \"NONE\", \"requested_slots\": [], \"slot_values\": {}}}, {\"actions\": [], \"service\": \"police\", \"slots\": [], \"state\": {\"active_intent\": \"NONE\", \"requested_slots\": [], \"slot_values\": {}}}, {\"actions\": [], \"service\": \"hotel\", \"slots\": [], \"state\": {\"active_intent\": \"NONE\", \"requested_slots\": [], \"slot_values\": {}}}, {\"actions\": [], \"service\": \"attraction\", \"slots\": [], \"state\": {\"active_intent\": \"NONE\", \"requested_slots\": [], \"slot_values\": {}}}, {\"actions\": [], \"service\": \"hospital\", \"slots\": [], \"state\": {\"active_intent\": \"NONE\", \"requested_slots\": [], \"slot_values\": {}}}]}',\n",
       "  'original system side information': '{}',\n",
       "  'dst': '\"restaurant area centre , restaurant food chinese\"',\n",
       "  'dst accumulated': '\"restaurant area centre , restaurant food chinese\"',\n",
       "  'intent': '\"find_restaurant\"',\n",
       "  'external knowledge': '',\n",
       "  'external knowledge non-flat': ''},\n",
       " {'turn id': 2,\n",
       "  'user utterance': \"No, it doesn't matter.\",\n",
       "  'system response': 'Would you like for it to have a certain number of stars?',\n",
       "  'dialog history': '<USER> I am looking for a Chinese place in the centre. <SYSTEM> I have 10 restaurants matching your request. Did you have a price range you would like?',\n",
       "  'original user side information': '{\"frames\": [{\"actions\": [], \"service\": \"restaurant\", \"slots\": [], \"state\": {\"active_intent\": \"find_restaurant\", \"requested_slots\": [], \"slot_values\": {\"restaurant-area\": [\"centre\"], \"restaurant-food\": [\"chinese\"]}}}, {\"actions\": [], \"service\": \"taxi\", \"slots\": [], \"state\": {\"active_intent\": \"NONE\", \"requested_slots\": [], \"slot_values\": {}}}, {\"actions\": [], \"service\": \"train\", \"slots\": [], \"state\": {\"active_intent\": \"NONE\", \"requested_slots\": [], \"slot_values\": {}}}, {\"actions\": [], \"service\": \"bus\", \"slots\": [], \"state\": {\"active_intent\": \"NONE\", \"requested_slots\": [], \"slot_values\": {}}}, {\"actions\": [], \"service\": \"police\", \"slots\": [], \"state\": {\"active_intent\": \"NONE\", \"requested_slots\": [], \"slot_values\": {}}}, {\"actions\": [], \"service\": \"hotel\", \"slots\": [], \"state\": {\"active_intent\": \"NONE\", \"requested_slots\": [], \"slot_values\": {}}}, {\"actions\": [], \"service\": \"attraction\", \"slots\": [], \"state\": {\"active_intent\": \"NONE\", \"requested_slots\": [], \"slot_values\": {}}}, {\"actions\": [], \"service\": \"hospital\", \"slots\": [], \"state\": {\"active_intent\": \"NONE\", \"requested_slots\": [], \"slot_values\": {}}}]}',\n",
       "  'original system side information': '{}',\n",
       "  'dst': '\"\"',\n",
       "  'dst accumulated': '\"restaurant area centre , restaurant food chinese\"',\n",
       "  'intent': '\"find_restaurant\"',\n",
       "  'external knowledge': '',\n",
       "  'external knowledge non-flat': ''},\n",
       " {'turn id': 3,\n",
       "  'user utterance': 'No just book at a chinese place in the centre. I need a table for 4 at 15:00 on wednesday please.',\n",
       "  'system response': 'I have you at Jinling Noodle bar then, reference is OCNH3CJJ . Anything else you need?',\n",
       "  'dialog history': \"<USER> I am looking for a Chinese place in the centre. <SYSTEM> I have 10 restaurants matching your request. Did you have a price range you would like? <USER> No, it doesn't matter. <SYSTEM> Would you like for it to have a certain number of stars?\",\n",
       "  'original user side information': '{\"frames\": [{\"actions\": [], \"service\": \"restaurant\", \"slots\": [{\"exclusive_end\": 76, \"slot\": \"restaurant-booktime\", \"start\": 71, \"value\": \"15:00\"}], \"state\": {\"active_intent\": \"book_restaurant\", \"requested_slots\": [], \"slot_values\": {\"restaurant-area\": [\"centre\"], \"restaurant-bookday\": [\"wednesday\"], \"restaurant-bookpeople\": [\"4\"], \"restaurant-booktime\": [\"15:00\"], \"restaurant-food\": [\"chinese\"]}}}, {\"actions\": [], \"service\": \"taxi\", \"slots\": [], \"state\": {\"active_intent\": \"NONE\", \"requested_slots\": [], \"slot_values\": {}}}, {\"actions\": [], \"service\": \"train\", \"slots\": [], \"state\": {\"active_intent\": \"NONE\", \"requested_slots\": [], \"slot_values\": {}}}, {\"actions\": [], \"service\": \"bus\", \"slots\": [], \"state\": {\"active_intent\": \"NONE\", \"requested_slots\": [], \"slot_values\": {}}}, {\"actions\": [], \"service\": \"police\", \"slots\": [], \"state\": {\"active_intent\": \"NONE\", \"requested_slots\": [], \"slot_values\": {}}}, {\"actions\": [], \"service\": \"hotel\", \"slots\": [], \"state\": {\"active_intent\": \"NONE\", \"requested_slots\": [], \"slot_values\": {}}}, {\"actions\": [], \"service\": \"attraction\", \"slots\": [], \"state\": {\"active_intent\": \"NONE\", \"requested_slots\": [], \"slot_values\": {}}}, {\"actions\": [], \"service\": \"hospital\", \"slots\": [], \"state\": {\"active_intent\": \"NONE\", \"requested_slots\": [], \"slot_values\": {}}}]}',\n",
       "  'original system side information': '{}',\n",
       "  'dst': '\"restaurant bookpeople 4 , restaurant bookday wednesday , restaurant booktime 15:00\"',\n",
       "  'dst accumulated': '\"restaurant area centre , restaurant bookday wednesday , restaurant bookpeople 4 , restaurant booktime 15:00 , restaurant food chinese\"',\n",
       "  'intent': '\"book_restaurant\"',\n",
       "  'external knowledge': '',\n",
       "  'external knowledge non-flat': ''},\n",
       " {'turn id': 4,\n",
       "  'user utterance': 'No that is it. Thank you.',\n",
       "  'system response': 'Have a great day!',\n",
       "  'dialog history': \"<USER> I am looking for a Chinese place in the centre. <SYSTEM> I have 10 restaurants matching your request. Did you have a price range you would like? <USER> No, it doesn't matter. <SYSTEM> Would you like for it to have a certain number of stars? <USER> No just book at a chinese place in the centre. I need a table for 4 at 15:00 on wednesday please. <SYSTEM> I have you at Jinling Noodle bar then, reference is OCNH3CJJ . Anything else you need?\",\n",
       "  'original user side information': '{\"frames\": [{\"actions\": [], \"service\": \"restaurant\", \"slots\": [], \"state\": {\"active_intent\": \"book_restaurant\", \"requested_slots\": [], \"slot_values\": {\"restaurant-area\": [\"centre\"], \"restaurant-bookday\": [\"wednesday\"], \"restaurant-bookpeople\": [\"4\"], \"restaurant-booktime\": [\"15:00\"], \"restaurant-food\": [\"chinese\"], \"restaurant-name\": [\"jinling noodle bar\"]}}}, {\"actions\": [], \"service\": \"taxi\", \"slots\": [], \"state\": {\"active_intent\": \"NONE\", \"requested_slots\": [], \"slot_values\": {}}}, {\"actions\": [], \"service\": \"train\", \"slots\": [], \"state\": {\"active_intent\": \"NONE\", \"requested_slots\": [], \"slot_values\": {}}}, {\"actions\": [], \"service\": \"bus\", \"slots\": [], \"state\": {\"active_intent\": \"NONE\", \"requested_slots\": [], \"slot_values\": {}}}, {\"actions\": [], \"service\": \"police\", \"slots\": [], \"state\": {\"active_intent\": \"NONE\", \"requested_slots\": [], \"slot_values\": {}}}, {\"actions\": [], \"service\": \"hotel\", \"slots\": [], \"state\": {\"active_intent\": \"NONE\", \"requested_slots\": [], \"slot_values\": {}}}, {\"actions\": [], \"service\": \"attraction\", \"slots\": [], \"state\": {\"active_intent\": \"NONE\", \"requested_slots\": [], \"slot_values\": {}}}, {\"actions\": [], \"service\": \"hospital\", \"slots\": [], \"state\": {\"active_intent\": \"NONE\", \"requested_slots\": [], \"slot_values\": {}}}]}',\n",
       "  'original system side information': '{}',\n",
       "  'dst': '\"restaurant name jinling noodle bar\"',\n",
       "  'dst accumulated': '\"restaurant area centre , restaurant bookday wednesday , restaurant bookpeople 4 , restaurant booktime 15:00 , restaurant food chinese , restaurant name jinling noodle bar\"',\n",
       "  'intent': '\"book_restaurant\"',\n",
       "  'external knowledge': '',\n",
       "  'external knowledge non-flat': ''}]"
      ]
     },
     "execution_count": 13,
     "metadata": {},
     "output_type": "execute_result"
    }
   ],
   "source": [
    "dataset['train'][0]['log']"
   ]
  },
  {
   "cell_type": "code",
   "execution_count": null,
   "metadata": {},
   "outputs": [],
   "source": []
  }
 ],
 "metadata": {
  "kernelspec": {
   "display_name": "base",
   "language": "python",
   "name": "python3"
  },
  "language_info": {
   "codemirror_mode": {
    "name": "ipython",
    "version": 3
   },
   "file_extension": ".py",
   "mimetype": "text/x-python",
   "name": "python",
   "nbconvert_exporter": "python",
   "pygments_lexer": "ipython3",
   "version": "3.9.7"
  }
 },
 "nbformat": 4,
 "nbformat_minor": 2
}
